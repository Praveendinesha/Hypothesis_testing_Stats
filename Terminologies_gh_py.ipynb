{
  "nbformat": 4,
  "nbformat_minor": 0,
  "metadata": {
    "colab": {
      "provenance": []
    },
    "kernelspec": {
      "name": "python3",
      "display_name": "Python 3"
    },
    "language_info": {
      "name": "python"
    }
  },
  "cells": [
    {
      "cell_type": "markdown",
      "source": [
        "# **HYPOTHESIS TESTING: Terminologies**"
      ],
      "metadata": {
        "id": "TELYhm9EBP5T"
      }
    },
    {
      "cell_type": "markdown",
      "source": [
        "**Null Hypothesis (H0):**\n",
        "\n",
        "---\n",
        "\n",
        "\n",
        "* The null hypothesis is a statistical statement or assumption that suggests there is no significant difference, effect, relationship, or association between variables in a population.\n",
        "\n",
        "* It serves as the default or baseline hypothesis in hypothesis testing and represents the idea that any observed differences or effects are due to random chance or noise rather than a meaningful pattern or relationship.\n",
        "\n",
        "* Researchers test the null hypothesis to determine whether there is sufficient evidence to reject it in favor of an alternative hypothesis that suggests the presence of a significant effect or relationship.\n"
      ],
      "metadata": {
        "id": "B_nVoN20zJX0"
      }
    },
    {
      "cell_type": "markdown",
      "source": [
        "\n",
        "**Alternative hypothesis(Ha or H1):**\n",
        "\n",
        "---\n",
        "\n",
        "\n",
        "\n",
        "* The alternative hypothesis, often denoted as \"Ha\" or \"H1,\" is a key concept in statistics and hypothesis testing. It represents a statement that contradicts or opposes the null hypothesis (H0). Specifically, the alternative hypothesis suggests that there is a significant difference, effect, relationship, or association between variables in a population, contrary to what the null hypothesis proposes.\n",
        "\n",
        "* In simpler terms, the alternative hypothesis is what researchers are trying to demonstrate or provide evidence that there is a real and meaningful effect, change, or relationship in the population being studied, beyond what can be explained by random chance or noise.\n",
        "\n",
        "Here are a few common forms of alternative hypotheses:\n",
        "\n",
        "1. *Two-Tailed Alternative Hypothesis (Non-Directional)*:\n",
        "   - Ha: There is a significant difference between groups (or variables), but it doesn't specify whether the difference is positive or negative.\n",
        "\n",
        "   This form is used when you want to determine if there is a significant difference, but you don't have a specific direction in mind (e.g., a two-tailed t-test to see if a sample mean is different from a hypothesized population mean).\n",
        "\n",
        "2. *One-Tailed Alternative Hypothesis (Directional)*:\n",
        "   - Ha: There is a significant positive (or negative) difference between groups (or variables).\n",
        "\n",
        "   This form is used when you have a specific direction in mind and want to test whether the effect is in that direction (e.g., testing if a new drug is better than an existing one, not just different).\n",
        "\n",
        "The choice of the alternative hypothesis depends on the research question and the specific hypothesis being tested."
      ],
      "metadata": {
        "id": "5ouG7r6E0WTZ"
      }
    },
    {
      "cell_type": "markdown",
      "source": [
        "\n",
        "**P-Value:**\n",
        "\n",
        "---\n",
        "\n",
        "* The p-value(probability value) is a statistical measure used to assess the strength of evidence in hypothesis testing.\n",
        "\n",
        "* It tells you how likely it is that your data occurred by random chance. A small p-value suggests strong evidence against the null hypothesis, while a large p-value suggests weak evidence.\n",
        "\n",
        "* Researchers use the p-value to make decisions about whether to accept or reject the null hypothesis based on a predetermined significance level (alpha).\n"
      ],
      "metadata": {
        "id": "o42LAjgdAxna"
      }
    },
    {
      "cell_type": "markdown",
      "source": [
        "**Level of Significance(alpha, often denoted as α):**\n",
        "\n",
        "---\n",
        "\n",
        "\n",
        "The \"level of significance,\" often denoted as α (alpha), is a predefined threshold in statistical hypothesis testing. It represents the probability of making a Type I error, which is the error of incorrectly rejecting the null hypothesis when it is, in fact, true. In simpler terms, the level of significance sets the bar for how strong the evidence must be before you can reject the null hypothesis and conclude that there is a statistically significant effect or relationship in your data. It's a critical parameter in hypothesis testing that helps control the rate of false positives in statistical analysis.\n",
        "\n",
        "* Setting the Significance Level: Before performing any hypothesis test, researchers or analysts decide on a specific significance level (alpha) based on the context of the study and the acceptable risk of Type I errors. Common choices include **α = 0.05 (5%)** or α = 0.01 (1%), but other levels may be chosen depending on the situation.\n",
        "\n",
        "* Once the significance level is defined, the hypothesis test is conducted using the collected data. This test produces a p-value, which indicates how likely it is to observe the results (or more extreme results) under the assumption that the null hypothesis is true.\n",
        "\n",
        "* Comparing the p-Value: After obtaining the p-value, you compare it to the predefined significance level (α). There are two possible outcomes:\n",
        "\n",
        "~ If the p-value is less than or equal to α (p ≤ α), you reject the null hypothesis, concluding that there is sufficient evidence to support the alternative hypothesis.\n",
        "\n",
        "~ If the p-value is greater than α (p > α), you fail to reject the null hypothesis, indicating that the evidence is not strong enough to support the alternative hypothesis."
      ],
      "metadata": {
        "id": "tKirXyHyA4JL"
      }
    }
  ]
}